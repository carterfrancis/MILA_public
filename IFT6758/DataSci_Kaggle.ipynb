{
 "cells": [
  {
   "cell_type": "code",
   "execution_count": 1,
   "metadata": {},
   "outputs": [],
   "source": [
    "import numpy as np\n",
    "import pandas as pd\n",
    "import sklearn\n",
    "import matplotlib.pyplot as plt\n",
    "import seaborn as sns\n",
    "\n",
    "from sklearn.model_selection import train_test_split\n",
    "from sklearn.linear_model import LinearRegression\n",
    "import warnings\n",
    "warnings.filterwarnings('ignore')"
   ]
  },
  {
   "cell_type": "code",
   "execution_count": 2,
   "metadata": {},
   "outputs": [],
   "source": [
    "train = pd.read_csv(\"train.csv\")\n",
    "test = pd.read_csv(\"test.csv\")"
   ]
  },
  {
   "cell_type": "markdown",
   "metadata": {},
   "source": [
    "# Submission 1 (can skip since it was not very good)"
   ]
  },
  {
   "cell_type": "code",
   "execution_count": 4,
   "metadata": {},
   "outputs": [
    {
     "name": "stdout",
     "output_type": "stream",
     "text": [
      "(7500, 24)\n"
     ]
    }
   ],
   "source": [
    "# removing columns that are either likely uninteresting for this task \n",
    "# or that we want to ignore for a first submission\n",
    "train_x = train.drop(columns=['Personal URL','User Name','Id','Profile Text Color','Profile Page Color',\n",
    "                    'Profile Theme Color','UTC Offset','Location','Profile Creation Timestamp',\n",
    "                    'User Time Zone','Profile Image','User Language'])\n",
    "test_x = test.drop(columns=['Personal URL','User Name','Id','Profile Text Color','Profile Page Color',\n",
    "                    'Profile Theme Color','UTC Offset','Location','Profile Creation Timestamp',\n",
    "                    'User Time Zone','Profile Image','User Language'])\n",
    "\n",
    "#columns to convert to one_hot\n",
    "to_encode_onehot =['Profile Cover Image Status','Profile Verification Status','Is Profile View Size Customized?',\n",
    "                  'Location Public Visibility','Profile Category']\n",
    "#columns to extract median from for imputation\n",
    "values = {'Num of Followers': train['Num of Followers'].median(), 'Num of People Following': train['Num of People Following'].median(), \n",
    "          'Num of Status Updates': train['Num of Status Updates'].median(), 'Num of Direct Messages': train['Num of Direct Messages'].median(), \n",
    "          'Avg Daily Profile Visit Duration in seconds': train['Avg Daily Profile Visit Duration in seconds'].median(), \n",
    "          'Avg Daily Profile Clicks': train['Avg Daily Profile Clicks'].median()\n",
    "          }\n",
    "\n",
    "#convert to one_hot and impute values\n",
    "train_x = pd.get_dummies(train_x,columns=to_encode_onehot)\n",
    "train_x = train_x.fillna(value=values)\n",
    "\n",
    "print(train_x.shape)\n",
    "\n",
    "#get the labels\n",
    "train_y = train_x['Num of Profile Likes'].copy()\n",
    "train_x = train_x.drop(columns=['Num of Profile Likes'])\n"
   ]
  },
  {
   "cell_type": "code",
   "execution_count": 64,
   "metadata": {},
   "outputs": [],
   "source": [
    "#convert to one_hot and impute values (for the test data)\n",
    "test_x = pd.get_dummies(test_x,columns=to_encode_onehot)\n",
    "test_x = test_x.fillna(value=values)"
   ]
  },
  {
   "cell_type": "code",
   "execution_count": 67,
   "metadata": {},
   "outputs": [],
   "source": [
    "#split the data\n",
    "X_train, X_val, y_train, y_val = train_test_split(train_x, train_y, test_size = 0.3)"
   ]
  },
  {
   "cell_type": "code",
   "execution_count": 71,
   "metadata": {},
   "outputs": [
    {
     "data": {
      "text/plain": [
       "LinearRegression(copy_X=True, fit_intercept=True, n_jobs=None, normalize=False)"
      ]
     },
     "execution_count": 71,
     "metadata": {},
     "output_type": "execute_result"
    }
   ],
   "source": [
    "#train a simple model, evaluate accuracy and save predictions\n",
    "lin = LinearRegression()\n",
    "lin.fit(X_train, y_train)"
   ]
  },
  {
   "cell_type": "code",
   "execution_count": 104,
   "metadata": {},
   "outputs": [],
   "source": [
    "preds = lin.predict(X_val)\n",
    "preds[preds<1] = 1"
   ]
  },
  {
   "cell_type": "code",
   "execution_count": 105,
   "metadata": {},
   "outputs": [
    {
     "data": {
      "text/plain": [
       "1.7455711726224254"
      ]
     },
     "execution_count": 105,
     "metadata": {},
     "output_type": "execute_result"
    }
   ],
   "source": [
    "np.mean((np.log10(preds) - np.log10(y_val+1))**2)"
   ]
  },
  {
   "cell_type": "code",
   "execution_count": 144,
   "metadata": {},
   "outputs": [],
   "source": [
    "submission_df = pd.DataFrame({'Id':test['Id'], 'Predicted': np.round(preds).astype(int)})\n",
    "submission_df.to_csv('submission.csv',index=False)"
   ]
  },
  {
   "cell_type": "markdown",
   "metadata": {},
   "source": [
    "# Submission 2, much better"
   ]
  },
  {
   "cell_type": "code",
   "execution_count": 51,
   "metadata": {},
   "outputs": [],
   "source": [
    "# removing columns that are uninteresting for this task (or will be modified below)\n",
    "train_x = train.drop(columns=['Personal URL','User Name','Id','Profile Text Color','Profile Page Color',\n",
    "                    'Profile Theme Color','UTC Offset','Location','Profile Creation Timestamp',\n",
    "                    'User Time Zone','Profile Image','User Language'])\n",
    "\n",
    "#creating some new features\n",
    "train_x['Has URL'] = pd.notna(train['Personal URL']).astype(float)\n",
    "train_x['Profile Creation Year'] = train['Profile Creation Timestamp'].apply(lambda x: x[-4:]).apply(lambda x: float(x)).max()\n",
    "#ignore all languages except the two most common: english and spanish. Convert to one hot\n",
    "train_x['Language English'] = (train['User Language'] == 'en').astype(float)\n",
    "train_x['Language Spanish'] = (train['User Language'] == 'es').astype(float)\n",
    "train_x['Language Other'] = np.logical_not(np.logical_or((train['User Language'] == 'en'), (train['User Language'] == 'es'))).astype(float)\n",
    "\n",
    "#columns to alter (either convert to onehot, impute values, or convert to log)\n",
    "to_encode_onehot =['Profile Cover Image Status','Profile Verification Status','Is Profile View Size Customized?',\n",
    "                  'Location Public Visibility','Profile Category']\n",
    "values = {'Num of Followers': train['Num of Followers'].median(), \n",
    "          'Num of People Following': train['Num of People Following'].median(), \n",
    "          'Num of Status Updates': train['Num of Status Updates'].median(), \n",
    "          'Num of Direct Messages': train['Num of Direct Messages'].median(), \n",
    "          'Avg Daily Profile Visit Duration in seconds': train['Avg Daily Profile Visit Duration in seconds'].median(), \n",
    "          'Avg Daily Profile Clicks': train['Avg Daily Profile Clicks'].median(),\n",
    "          'Has URL': train_x['Has URL'].median(),\n",
    "          'Profile Creation Year': train_x['Profile Creation Year'].median()\n",
    "          }\n",
    "columns_as_log = ['Num of Followers','Num of People Following','Num of Status Updates',\n",
    "                  'Num of Direct Messages','Avg Daily Profile Clicks']\n",
    "\n",
    "\n",
    "#convert to one_hot and impute values and convert to log\n",
    "train_x = pd.get_dummies(train_x,columns=to_encode_onehot)\n",
    "train_x = train_x.fillna(value=values)\n",
    "for col in columns_as_log:\n",
    "    train_x[col] = np.log10(train_x[col]+1)\n",
    "\n",
    "#get labels (and do log transform)\n",
    "train_y = train_x['Num of Profile Likes'].copy()\n",
    "train_y = np.log10(train_y+1)\n",
    "train_x = train_x.drop(columns=['Num of Profile Likes'])\n",
    "\n",
    "#split the data\n",
    "X_train, X_val, y_train, y_val = train_test_split(train_x, train_y, test_size = 0.3)"
   ]
  },
  {
   "cell_type": "code",
   "execution_count": 52,
   "metadata": {},
   "outputs": [],
   "source": [
    "#do the same as above, but on the test data\n",
    "test_x = test.drop(columns=['Personal URL','User Name','Id','Profile Text Color','Profile Page Color',\n",
    "                    'Profile Theme Color','UTC Offset','Location','Profile Creation Timestamp',\n",
    "                    'User Time Zone','Profile Image','User Language'])\n",
    "test_x['Has URL'] = pd.notna(test['Personal URL']).astype(float)\n",
    "test_x['Profile Creation Year'] = test['Profile Creation Timestamp'].apply(lambda x: x[-4:]).apply(lambda x: float(x)).max()\n",
    "test_x['Language English'] = (test['User Language'] == 'en').astype(float)\n",
    "test_x['Language Spanish'] = (test['User Language'] == 'es').astype(float)\n",
    "test_x['Language Other'] = np.logical_not(np.logical_or((test['User Language'] == 'en'), (test['User Language'] == 'es'))).astype(float)\n",
    "\n",
    "#\n",
    "test_x = pd.get_dummies(test_x,columns = to_encode_onehot)\n",
    "test_x = test_x.fillna(value=values)\n",
    "for col in columns_as_log:\n",
    "    test_x[col] = np.log10(test_x[col]+1)"
   ]
  },
  {
   "cell_type": "code",
   "execution_count": 53,
   "metadata": {},
   "outputs": [
    {
     "data": {
      "text/plain": [
       "LinearRegression(copy_X=True, fit_intercept=True, n_jobs=None, normalize=False)"
      ]
     },
     "execution_count": 53,
     "metadata": {},
     "output_type": "execute_result"
    }
   ],
   "source": [
    "lin2 = LinearRegression()\n",
    "lin2.fit(X_train, y_train)"
   ]
  },
  {
   "cell_type": "code",
   "execution_count": 54,
   "metadata": {},
   "outputs": [],
   "source": [
    "preds = lin2.predict(X_val)\n",
    "preds[preds<0] = 0"
   ]
  },
  {
   "cell_type": "code",
   "execution_count": 55,
   "metadata": {},
   "outputs": [
    {
     "data": {
      "text/plain": [
       "0.6370570532512986"
      ]
     },
     "execution_count": 55,
     "metadata": {},
     "output_type": "execute_result"
    }
   ],
   "source": [
    "np.mean((preds - y_val)**2)"
   ]
  },
  {
   "cell_type": "markdown",
   "metadata": {},
   "source": [
    "### Same as above but with SVM regression"
   ]
  },
  {
   "cell_type": "code",
   "execution_count": 56,
   "metadata": {},
   "outputs": [],
   "source": [
    "from sklearn.svm import SVR"
   ]
  },
  {
   "cell_type": "code",
   "execution_count": 57,
   "metadata": {},
   "outputs": [
    {
     "data": {
      "text/plain": [
       "SVR(C=1.0, cache_size=200, coef0=0.0, degree=3, epsilon=0.1,\n",
       "    gamma='auto_deprecated', kernel='rbf', max_iter=-1, shrinking=True,\n",
       "    tol=0.001, verbose=False)"
      ]
     },
     "execution_count": 57,
     "metadata": {},
     "output_type": "execute_result"
    }
   ],
   "source": [
    "lin2 = SVR()\n",
    "lin2.fit(train_x, train_y)"
   ]
  },
  {
   "cell_type": "code",
   "execution_count": 64,
   "metadata": {},
   "outputs": [],
   "source": [
    "preds = lin2.predict(X_val)\n",
    "preds[preds<0] = 0"
   ]
  },
  {
   "cell_type": "code",
   "execution_count": 72,
   "metadata": {},
   "outputs": [],
   "source": [
    "preds[preds<0.3] = 0"
   ]
  },
  {
   "cell_type": "code",
   "execution_count": 73,
   "metadata": {},
   "outputs": [
    {
     "data": {
      "text/plain": [
       "0.5498792282677667"
      ]
     },
     "execution_count": 73,
     "metadata": {},
     "output_type": "execute_result"
    }
   ],
   "source": [
    "np.mean((preds - y_val)**2)"
   ]
  },
  {
   "cell_type": "code",
   "execution_count": 43,
   "metadata": {},
   "outputs": [],
   "source": [
    "preds_real = 10**(preds)"
   ]
  },
  {
   "cell_type": "code",
   "execution_count": 44,
   "metadata": {},
   "outputs": [
    {
     "data": {
      "text/plain": [
       "array([4877.89720043, 1887.06379187,  222.04239369, ..., 5755.97286971,\n",
       "       1241.76022912,  273.48419822])"
      ]
     },
     "execution_count": 44,
     "metadata": {},
     "output_type": "execute_result"
    }
   ],
   "source": [
    "preds_real"
   ]
  },
  {
   "cell_type": "code",
   "execution_count": 45,
   "metadata": {},
   "outputs": [],
   "source": [
    "submission_df = pd.DataFrame({'Id':test['Id'], 'Predicted': np.round(preds_real).astype(int)})\n",
    "submission_df.to_csv('submission2.csv',index=False)"
   ]
  },
  {
   "cell_type": "markdown",
   "metadata": {},
   "source": [
    "# Some data visualisation to know which columns should be in log, and which columns are important predictors of the outcome variable"
   ]
  },
  {
   "cell_type": "code",
   "execution_count": 13,
   "metadata": {},
   "outputs": [
    {
     "data": {
      "text/plain": [
       "<matplotlib.axes._subplots.AxesSubplot at 0x7f637ac710d0>"
      ]
     },
     "execution_count": 13,
     "metadata": {},
     "output_type": "execute_result"
    },
    {
     "data": {
      "image/png": "[encoded data removed]",
      "text/plain": [
       "<Figure size 432x288 with 1 Axes>"
      ]
     },
     "metadata": {
      "needs_background": "light"
     },
     "output_type": "display_data"
    }
   ],
   "source": [
    "sns.histplot(np.log(train['Num of Direct Messages']+1))"
   ]
  },
  {
   "cell_type": "code",
   "execution_count": 9,
   "metadata": {},
   "outputs": [
    {
     "data": {
      "text/html": [
       "<div>\n",
       "<style scoped>\n",
       "    .dataframe tbody tr th:only-of-type {\n",
       "        vertical-align: middle;\n",
       "    }\n",
       "\n",
       "    .dataframe tbody tr th {\n",
       "        vertical-align: top;\n",
       "    }\n",
       "\n",
       "    .dataframe thead th {\n",
       "        text-align: right;\n",
       "    }\n",
       "</style>\n",
       "<table border=\"1\" class=\"dataframe\">\n",
       "  <thead>\n",
       "    <tr style=\"text-align: right;\">\n",
       "      <th></th>\n",
       "      <th>Num of Followers</th>\n",
       "      <th>Num of People Following</th>\n",
       "      <th>Num of Status Updates</th>\n",
       "      <th>Num of Direct Messages</th>\n",
       "      <th>Avg Daily Profile Visit Duration in seconds</th>\n",
       "      <th>Avg Daily Profile Clicks</th>\n",
       "      <th>Num of Profile Likes</th>\n",
       "      <th>Has URL</th>\n",
       "      <th>Profile Creation Year</th>\n",
       "      <th>Language English</th>\n",
       "      <th>...</th>\n",
       "      <th>Location Public Visibility_??</th>\n",
       "      <th>Location Public Visibility_Disabled</th>\n",
       "      <th>Location Public Visibility_Enabled</th>\n",
       "      <th>Location Public Visibility_disabled</th>\n",
       "      <th>Location Public Visibility_enabled</th>\n",
       "      <th>Profile Category_</th>\n",
       "      <th>Profile Category_business</th>\n",
       "      <th>Profile Category_celebrity</th>\n",
       "      <th>Profile Category_government</th>\n",
       "      <th>Profile Category_unknown</th>\n",
       "    </tr>\n",
       "  </thead>\n",
       "  <tbody>\n",
       "    <tr>\n",
       "      <th>0</th>\n",
       "      <td>95763</td>\n",
       "      <td>4289</td>\n",
       "      <td>30809</td>\n",
       "      <td>873</td>\n",
       "      <td>14.792</td>\n",
       "      <td>1.5761</td>\n",
       "      <td>2815</td>\n",
       "      <td>0.0</td>\n",
       "      <td>2017.0</td>\n",
       "      <td>1.0</td>\n",
       "      <td>...</td>\n",
       "      <td>0</td>\n",
       "      <td>0</td>\n",
       "      <td>1</td>\n",
       "      <td>0</td>\n",
       "      <td>0</td>\n",
       "      <td>0</td>\n",
       "      <td>1</td>\n",
       "      <td>0</td>\n",
       "      <td>0</td>\n",
       "      <td>0</td>\n",
       "    </tr>\n",
       "    <tr>\n",
       "      <th>1</th>\n",
       "      <td>1018746</td>\n",
       "      <td>289</td>\n",
       "      <td>8150</td>\n",
       "      <td>290</td>\n",
       "      <td>8.183</td>\n",
       "      <td>11.2782</td>\n",
       "      <td>1242</td>\n",
       "      <td>0.0</td>\n",
       "      <td>2017.0</td>\n",
       "      <td>1.0</td>\n",
       "      <td>...</td>\n",
       "      <td>0</td>\n",
       "      <td>0</td>\n",
       "      <td>1</td>\n",
       "      <td>0</td>\n",
       "      <td>0</td>\n",
       "      <td>0</td>\n",
       "      <td>0</td>\n",
       "      <td>0</td>\n",
       "      <td>0</td>\n",
       "      <td>1</td>\n",
       "    </tr>\n",
       "    <tr>\n",
       "      <th>2</th>\n",
       "      <td>13444</td>\n",
       "      <td>1876</td>\n",
       "      <td>4698</td>\n",
       "      <td>227</td>\n",
       "      <td>31.823</td>\n",
       "      <td>0.5725</td>\n",
       "      <td>1559</td>\n",
       "      <td>0.0</td>\n",
       "      <td>2017.0</td>\n",
       "      <td>1.0</td>\n",
       "      <td>...</td>\n",
       "      <td>0</td>\n",
       "      <td>0</td>\n",
       "      <td>1</td>\n",
       "      <td>0</td>\n",
       "      <td>0</td>\n",
       "      <td>0</td>\n",
       "      <td>0</td>\n",
       "      <td>0</td>\n",
       "      <td>0</td>\n",
       "      <td>1</td>\n",
       "    </tr>\n",
       "    <tr>\n",
       "      <th>3</th>\n",
       "      <td>339168</td>\n",
       "      <td>1148</td>\n",
       "      <td>53216</td>\n",
       "      <td>4035</td>\n",
       "      <td>23.052</td>\n",
       "      <td>4.0265</td>\n",
       "      <td>6342</td>\n",
       "      <td>1.0</td>\n",
       "      <td>2017.0</td>\n",
       "      <td>1.0</td>\n",
       "      <td>...</td>\n",
       "      <td>0</td>\n",
       "      <td>0</td>\n",
       "      <td>1</td>\n",
       "      <td>0</td>\n",
       "      <td>0</td>\n",
       "      <td>0</td>\n",
       "      <td>1</td>\n",
       "      <td>0</td>\n",
       "      <td>0</td>\n",
       "      <td>0</td>\n",
       "    </tr>\n",
       "    <tr>\n",
       "      <th>4</th>\n",
       "      <td>9215</td>\n",
       "      <td>93</td>\n",
       "      <td>3271</td>\n",
       "      <td>130</td>\n",
       "      <td>8.418</td>\n",
       "      <td>3.9229</td>\n",
       "      <td>1078</td>\n",
       "      <td>1.0</td>\n",
       "      <td>2017.0</td>\n",
       "      <td>1.0</td>\n",
       "      <td>...</td>\n",
       "      <td>0</td>\n",
       "      <td>0</td>\n",
       "      <td>1</td>\n",
       "      <td>0</td>\n",
       "      <td>0</td>\n",
       "      <td>0</td>\n",
       "      <td>0</td>\n",
       "      <td>0</td>\n",
       "      <td>0</td>\n",
       "      <td>1</td>\n",
       "    </tr>\n",
       "    <tr>\n",
       "      <th>...</th>\n",
       "      <td>...</td>\n",
       "      <td>...</td>\n",
       "      <td>...</td>\n",
       "      <td>...</td>\n",
       "      <td>...</td>\n",
       "      <td>...</td>\n",
       "      <td>...</td>\n",
       "      <td>...</td>\n",
       "      <td>...</td>\n",
       "      <td>...</td>\n",
       "      <td>...</td>\n",
       "      <td>...</td>\n",
       "      <td>...</td>\n",
       "      <td>...</td>\n",
       "      <td>...</td>\n",
       "      <td>...</td>\n",
       "      <td>...</td>\n",
       "      <td>...</td>\n",
       "      <td>...</td>\n",
       "      <td>...</td>\n",
       "      <td>...</td>\n",
       "    </tr>\n",
       "    <tr>\n",
       "      <th>7495</th>\n",
       "      <td>6086</td>\n",
       "      <td>76</td>\n",
       "      <td>985</td>\n",
       "      <td>56</td>\n",
       "      <td>24.792</td>\n",
       "      <td>8.1106</td>\n",
       "      <td>1373</td>\n",
       "      <td>0.0</td>\n",
       "      <td>2017.0</td>\n",
       "      <td>1.0</td>\n",
       "      <td>...</td>\n",
       "      <td>0</td>\n",
       "      <td>1</td>\n",
       "      <td>0</td>\n",
       "      <td>0</td>\n",
       "      <td>0</td>\n",
       "      <td>0</td>\n",
       "      <td>0</td>\n",
       "      <td>0</td>\n",
       "      <td>0</td>\n",
       "      <td>1</td>\n",
       "    </tr>\n",
       "    <tr>\n",
       "      <th>7496</th>\n",
       "      <td>280190</td>\n",
       "      <td>38604</td>\n",
       "      <td>20652</td>\n",
       "      <td>172</td>\n",
       "      <td>26.006</td>\n",
       "      <td>0.8956</td>\n",
       "      <td>1407</td>\n",
       "      <td>0.0</td>\n",
       "      <td>2017.0</td>\n",
       "      <td>0.0</td>\n",
       "      <td>...</td>\n",
       "      <td>0</td>\n",
       "      <td>0</td>\n",
       "      <td>1</td>\n",
       "      <td>0</td>\n",
       "      <td>0</td>\n",
       "      <td>0</td>\n",
       "      <td>0</td>\n",
       "      <td>0</td>\n",
       "      <td>0</td>\n",
       "      <td>1</td>\n",
       "    </tr>\n",
       "    <tr>\n",
       "      <th>7497</th>\n",
       "      <td>21647</td>\n",
       "      <td>49</td>\n",
       "      <td>2348</td>\n",
       "      <td>271</td>\n",
       "      <td>15.030</td>\n",
       "      <td>2.8867</td>\n",
       "      <td>1235</td>\n",
       "      <td>0.0</td>\n",
       "      <td>2017.0</td>\n",
       "      <td>1.0</td>\n",
       "      <td>...</td>\n",
       "      <td>0</td>\n",
       "      <td>0</td>\n",
       "      <td>0</td>\n",
       "      <td>0</td>\n",
       "      <td>1</td>\n",
       "      <td>1</td>\n",
       "      <td>0</td>\n",
       "      <td>0</td>\n",
       "      <td>0</td>\n",
       "      <td>0</td>\n",
       "    </tr>\n",
       "    <tr>\n",
       "      <th>7498</th>\n",
       "      <td>89005</td>\n",
       "      <td>256</td>\n",
       "      <td>73830</td>\n",
       "      <td>346</td>\n",
       "      <td>11.948</td>\n",
       "      <td>1.7756</td>\n",
       "      <td>1105</td>\n",
       "      <td>0.0</td>\n",
       "      <td>2017.0</td>\n",
       "      <td>0.0</td>\n",
       "      <td>...</td>\n",
       "      <td>0</td>\n",
       "      <td>0</td>\n",
       "      <td>0</td>\n",
       "      <td>0</td>\n",
       "      <td>1</td>\n",
       "      <td>0</td>\n",
       "      <td>1</td>\n",
       "      <td>0</td>\n",
       "      <td>0</td>\n",
       "      <td>0</td>\n",
       "    </tr>\n",
       "    <tr>\n",
       "      <th>7499</th>\n",
       "      <td>313002</td>\n",
       "      <td>254541</td>\n",
       "      <td>28928</td>\n",
       "      <td>875</td>\n",
       "      <td>14.307</td>\n",
       "      <td>9.6908</td>\n",
       "      <td>375</td>\n",
       "      <td>1.0</td>\n",
       "      <td>2017.0</td>\n",
       "      <td>0.0</td>\n",
       "      <td>...</td>\n",
       "      <td>0</td>\n",
       "      <td>0</td>\n",
       "      <td>0</td>\n",
       "      <td>1</td>\n",
       "      <td>0</td>\n",
       "      <td>0</td>\n",
       "      <td>1</td>\n",
       "      <td>0</td>\n",
       "      <td>0</td>\n",
       "      <td>0</td>\n",
       "    </tr>\n",
       "  </tbody>\n",
       "</table>\n",
       "<p>7500 rows × 29 columns</p>\n",
       "</div>"
      ],
      "text/plain": [
       "      Num of Followers  Num of People Following  Num of Status Updates  \\\n",
       "0                95763                     4289                  30809   \n",
       "1              1018746                      289                   8150   \n",
       "2                13444                     1876                   4698   \n",
       "3               339168                     1148                  53216   \n",
       "4                 9215                       93                   3271   \n",
       "...                ...                      ...                    ...   \n",
       "7495              6086                       76                    985   \n",
       "7496            280190                    38604                  20652   \n",
       "7497             21647                       49                   2348   \n",
       "7498             89005                      256                  73830   \n",
       "7499            313002                   254541                  28928   \n",
       "\n",
       "      Num of Direct Messages  Avg Daily Profile Visit Duration in seconds  \\\n",
       "0                        873                                       14.792   \n",
       "1                        290                                        8.183   \n",
       "2                        227                                       31.823   \n",
       "3                       4035                                       23.052   \n",
       "4                        130                                        8.418   \n",
       "...                      ...                                          ...   \n",
       "7495                      56                                       24.792   \n",
       "7496                     172                                       26.006   \n",
       "7497                     271                                       15.030   \n",
       "7498                     346                                       11.948   \n",
       "7499                     875                                       14.307   \n",
       "\n",
       "      Avg Daily Profile Clicks  Num of Profile Likes  Has URL  \\\n",
       "0                       1.5761                  2815      0.0   \n",
       "1                      11.2782                  1242      0.0   \n",
       "2                       0.5725                  1559      0.0   \n",
       "3                       4.0265                  6342      1.0   \n",
       "4                       3.9229                  1078      1.0   \n",
       "...                        ...                   ...      ...   \n",
       "7495                    8.1106                  1373      0.0   \n",
       "7496                    0.8956                  1407      0.0   \n",
       "7497                    2.8867                  1235      0.0   \n",
       "7498                    1.7756                  1105      0.0   \n",
       "7499                    9.6908                   375      1.0   \n",
       "\n",
       "      Profile Creation Year  Language English  ...  \\\n",
       "0                    2017.0               1.0  ...   \n",
       "1                    2017.0               1.0  ...   \n",
       "2                    2017.0               1.0  ...   \n",
       "3                    2017.0               1.0  ...   \n",
       "4                    2017.0               1.0  ...   \n",
       "...                     ...               ...  ...   \n",
       "7495                 2017.0               1.0  ...   \n",
       "7496                 2017.0               0.0  ...   \n",
       "7497                 2017.0               1.0  ...   \n",
       "7498                 2017.0               0.0  ...   \n",
       "7499                 2017.0               0.0  ...   \n",
       "\n",
       "      Location Public Visibility_??  Location Public Visibility_Disabled  \\\n",
       "0                                 0                                    0   \n",
       "1                                 0                                    0   \n",
       "2                                 0                                    0   \n",
       "3                                 0                                    0   \n",
       "4                                 0                                    0   \n",
       "...                             ...                                  ...   \n",
       "7495                              0                                    1   \n",
       "7496                              0                                    0   \n",
       "7497                              0                                    0   \n",
       "7498                              0                                    0   \n",
       "7499                              0                                    0   \n",
       "\n",
       "      Location Public Visibility_Enabled  Location Public Visibility_disabled  \\\n",
       "0                                      1                                    0   \n",
       "1                                      1                                    0   \n",
       "2                                      1                                    0   \n",
       "3                                      1                                    0   \n",
       "4                                      1                                    0   \n",
       "...                                  ...                                  ...   \n",
       "7495                                   0                                    0   \n",
       "7496                                   1                                    0   \n",
       "7497                                   0                                    0   \n",
       "7498                                   0                                    0   \n",
       "7499                                   0                                    1   \n",
       "\n",
       "      Location Public Visibility_enabled  Profile Category_   \\\n",
       "0                                      0                   0   \n",
       "1                                      0                   0   \n",
       "2                                      0                   0   \n",
       "3                                      0                   0   \n",
       "4                                      0                   0   \n",
       "...                                  ...                 ...   \n",
       "7495                                   0                   0   \n",
       "7496                                   0                   0   \n",
       "7497                                   1                   1   \n",
       "7498                                   1                   0   \n",
       "7499                                   0                   0   \n",
       "\n",
       "      Profile Category_business  Profile Category_celebrity  \\\n",
       "0                             1                           0   \n",
       "1                             0                           0   \n",
       "2                             0                           0   \n",
       "3                             1                           0   \n",
       "4                             0                           0   \n",
       "...                         ...                         ...   \n",
       "7495                          0                           0   \n",
       "7496                          0                           0   \n",
       "7497                          0                           0   \n",
       "7498                          1                           0   \n",
       "7499                          1                           0   \n",
       "\n",
       "      Profile Category_government  Profile Category_unknown  \n",
       "0                               0                         0  \n",
       "1                               0                         1  \n",
       "2                               0                         1  \n",
       "3                               0                         0  \n",
       "4                               0                         1  \n",
       "...                           ...                       ...  \n",
       "7495                            0                         1  \n",
       "7496                            0                         1  \n",
       "7497                            0                         0  \n",
       "7498                            0                         0  \n",
       "7499                            0                         0  \n",
       "\n",
       "[7500 rows x 29 columns]"
      ]
     },
     "execution_count": 9,
     "metadata": {},
     "output_type": "execute_result"
    }
   ],
   "source": [
    "train_x"
   ]
  },
  {
   "cell_type": "code",
   "execution_count": null,
   "metadata": {},
   "outputs": [],
   "source": []
  },
  {
   "cell_type": "code",
   "execution_count": null,
   "metadata": {},
   "outputs": [],
   "source": []
  },
  {
   "cell_type": "code",
   "execution_count": 24,
   "metadata": {},
   "outputs": [
    {
     "data": {
      "text/plain": [
       "<matplotlib.axes._subplots.AxesSubplot at 0x7f07cff05cd0>"
      ]
     },
     "execution_count": 24,
     "metadata": {},
     "output_type": "execute_result"
    },
    {
     "data": {
      "image/png": "[encoded data removed]",
      "text/plain": [
       "<Figure size 432x288 with 1 Axes>"
      ]
     },
     "metadata": {
      "needs_background": "light"
     },
     "output_type": "display_data"
    }
   ],
   "source": [
    "sns.histplot(train['Avg Daily Profile Visit Duration in seconds'])"
   ]
  },
  {
   "cell_type": "code",
   "execution_count": 111,
   "metadata": {
    "scrolled": false
   },
   "outputs": [
    {
     "data": {
      "text/plain": [
       "<matplotlib.axes._subplots.AxesSubplot at 0x7fa2f275f490>"
      ]
     },
     "execution_count": 111,
     "metadata": {},
     "output_type": "execute_result"
    },
    {
     "data": {
      "image/png": "[encoded data removed]",
      "text/plain": [
       "<Figure size 432x288 with 1 Axes>"
      ]
     },
     "metadata": {
      "needs_background": "light"
     },
     "output_type": "display_data"
    }
   ],
   "source": [
    "sns.histplot(train['User Language'])"
   ]
  },
  {
   "cell_type": "code",
   "execution_count": 57,
   "metadata": {},
   "outputs": [
    {
     "data": {
      "text/plain": [
       "Text(0.5, 0, 'log num of likes')"
      ]
     },
     "execution_count": 57,
     "metadata": {},
     "output_type": "execute_result"
    },
    {
     "data": {
      "image/png": "[encoded data removed]",
      "text/plain": [
       "<Figure size 432x288 with 1 Axes>"
      ]
     },
     "metadata": {
      "needs_background": "light"
     },
     "output_type": "display_data"
    }
   ],
   "source": [
    "sns.histplot(np.log10(train['Num of Profile Likes']+1))\n",
    "plt.xlabel('log num of likes')"
   ]
  },
  {
   "cell_type": "code",
   "execution_count": 19,
   "metadata": {},
   "outputs": [
    {
     "name": "stderr",
     "output_type": "stream",
     "text": [
      "/home/francis/anaconda3/lib/python3.7/site-packages/pandas/core/series.py:679: RuntimeWarning: divide by zero encountered in log10\n",
      "  result = getattr(ufunc, method)(*inputs, **kwargs)\n",
      "/home/francis/anaconda3/lib/python3.7/site-packages/seaborn/_decorators.py:43: FutureWarning: Pass the following variables as keyword args: x, y. From version 0.12, the only valid positional argument will be `data`, and passing other arguments without an explicit keyword will result in an error or misinterpretation.\n",
      "  FutureWarning\n"
     ]
    },
    {
     "data": {
      "text/plain": [
       "<matplotlib.axes._subplots.AxesSubplot at 0x7f07cff77590>"
      ]
     },
     "execution_count": 19,
     "metadata": {},
     "output_type": "execute_result"
    },
    {
     "data": {
      "image/png": "[encoded data removed]",
      "text/plain": [
       "<Figure size 432x288 with 1 Axes>"
      ]
     },
     "metadata": {
      "needs_background": "light"
     },
     "output_type": "display_data"
    }
   ],
   "source": [
    "sns.boxplot(pd.notna(train['Personal URL']), np.log10(train['Num of Profile Likes']))#,alpha=0.005)"
   ]
  },
  {
   "cell_type": "code",
   "execution_count": 51,
   "metadata": {},
   "outputs": [
    {
     "name": "stderr",
     "output_type": "stream",
     "text": [
      "/home/francis/anaconda3/lib/python3.7/site-packages/pandas/core/series.py:679: RuntimeWarning: divide by zero encountered in log10\n",
      "  result = getattr(ufunc, method)(*inputs, **kwargs)\n",
      "/home/francis/anaconda3/lib/python3.7/site-packages/seaborn/_decorators.py:43: FutureWarning: Pass the following variables as keyword args: x, y. From version 0.12, the only valid positional argument will be `data`, and passing other arguments without an explicit keyword will result in an error or misinterpretation.\n",
      "  FutureWarning\n"
     ]
    },
    {
     "data": {
      "text/plain": [
       "<matplotlib.axes._subplots.AxesSubplot at 0x7fa2fa932790>"
      ]
     },
     "execution_count": 51,
     "metadata": {},
     "output_type": "execute_result"
    },
    {
     "data": {
      "image/png": "[encoded data removed]",
      "text/plain": [
       "<Figure size 432x288 with 1 Axes>"
      ]
     },
     "metadata": {
      "needs_background": "light"
     },
     "output_type": "display_data"
    }
   ],
   "source": [
    "sns.boxplot(train['UTC Offset'],np.log10(train['Num of Profile Likes']))#,alpha=0.005)"
   ]
  },
  {
   "cell_type": "code",
   "execution_count": null,
   "metadata": {},
   "outputs": [],
   "source": []
  }
 ],
 "metadata": {
  "kernelspec": {
   "display_name": "Python 3",
   "language": "python",
   "name": "python3"
  },
  "language_info": {
   "codemirror_mode": {
    "name": "ipython",
    "version": 3
   },
   "file_extension": ".py",
   "mimetype": "text/x-python",
   "name": "python",
   "nbconvert_exporter": "python",
   "pygments_lexer": "ipython3",
   "version": "3.7.6"
  }
 },
 "nbformat": 4,
 "nbformat_minor": 4
}
